{
  "nbformat": 4,
  "nbformat_minor": 0,
  "metadata": {
    "colab": {
      "provenance": []
    },
    "kernelspec": {
      "name": "python3",
      "display_name": "Python 3"
    },
    "language_info": {
      "name": "python"
    }
  },
  "cells": [
    {
      "cell_type": "markdown",
      "source": [
        "#.Theory Questions:\n"
      ],
      "metadata": {
        "id": "UQSJyddMyUhV"
      }
    },
    {
      "cell_type": "markdown",
      "source": [
        "1. What is the difference between a function and a method in Python?\n",
        "- Difference between a Function and a Method:\n",
        "\n",
        " - A function is a block of reusable code defined independently, while a method is a function defined within a class and is associated with an object or class."
      ],
      "metadata": {
        "id": "OChE0lznydaK"
      }
    },
    {
      "cell_type": "markdown",
      "source": [
        "2. Explain the concept of function arguments and parameters in Python?\n",
        "- Parameters are placeholders in the function definition, while arguments are the actual values passed to the function when called.\n",
        "-Eg:--"
      ],
      "metadata": {
        "id": "0R_zMERUyzdL"
      }
    },
    {
      "cell_type": "code",
      "source": [
        "def add(a, b):  # a, b are parameters\n",
        "    return a + b\n",
        "add(3, 4)  # 3, 4 are arguments"
      ],
      "metadata": {
        "colab": {
          "base_uri": "https://localhost:8080/"
        },
        "id": "7QpqFuKjzIoN",
        "outputId": "fc84275b-045e-4887-bb60-e43dbfa045cd"
      },
      "execution_count": 1,
      "outputs": [
        {
          "output_type": "execute_result",
          "data": {
            "text/plain": [
              "7"
            ]
          },
          "metadata": {},
          "execution_count": 1
        }
      ]
    },
    {
      "cell_type": "markdown",
      "source": [
        "3. What are the different ways to define and call a function in Python?\n",
        "- Functions can be defined using def (standard functions) or lambda (anonymous functions). Calling a function involves using its name followed by parentheses, optionally passing arguments."
      ],
      "metadata": {
        "id": "nH0DHtg5zMis"
      }
    },
    {
      "cell_type": "markdown",
      "source": [
        "4. What is the purpose of the return statement in a Python function?\n",
        "- The return statement is used to exit a function and send back a result to the caller."
      ],
      "metadata": {
        "id": "qgvp3Etc1q57"
      }
    },
    {
      "cell_type": "markdown",
      "source": [
        "5.  What are iterators in Python and how do they differ from iterables?\n",
        "- Iterator: An object that uses __next__() to fetch values one at a time.\n",
        "- Iterable: An object that can return an iterator using iter()."
      ],
      "metadata": {
        "id": "GXv9oJSO13pU"
      }
    },
    {
      "cell_type": "markdown",
      "source": [
        "6. Explain the concept of generators in Python and how they are defined?\n",
        "- Generators are functions that use yield to produce values one at a time, allowing for memory-efficient iteration.\n"
      ],
      "metadata": {
        "id": "Vs3729jX2Io0"
      }
    },
    {
      "cell_type": "markdown",
      "source": [
        "7. What are the advantages of using generators over regular functions?\n",
        "- Generators save memory and allow for lazy evaluation by yielding values only when needed.\n"
      ],
      "metadata": {
        "id": "Y3J4uSJc2a7N"
      }
    },
    {
      "cell_type": "markdown",
      "source": [
        "8. What is a lambda function in Python and when is it typically used?\n",
        "- A lambda function is a small, anonymous function defined using the lambda keyword. It is used for short operations without defining a full function.\n"
      ],
      "metadata": {
        "id": "MV9PoyUT2vCN"
      }
    },
    {
      "cell_type": "markdown",
      "source": [
        "9. Explain the purpose and usage of the map() function in Python?\n",
        "- The map() function applies a given function to all elements in an iterable and returns a map object.\n"
      ],
      "metadata": {
        "id": "ITIzVEtw22t2"
      }
    },
    {
      "cell_type": "markdown",
      "source": [
        "10. What is the difference between `map()`, `reduce()`, and `filter()` functions in Python?\n",
        "- map(): Transforms each element of an iterable.\n",
        "- reduce(): Combines elements into a single result.\n",
        "- filter(): Selects elements based on a condition.\n"
      ],
      "metadata": {
        "id": "_IJBqGBb3Jgl"
      }
    },
    {
      "cell_type": "markdown",
      "source": [
        "11. Using pen & Paper write the internal mechanism for sum operation using  reduce function on this given\n",
        "list:[47,11,42,13]; ?\n",
        "-"
      ],
      "metadata": {
        "id": "ob_m3ghn3W4T"
      }
    },
    {
      "cell_type": "markdown",
      "source": [
        "# Practical Questions:\n"
      ],
      "metadata": {
        "id": "4Mr_ZeNT3p68"
      }
    },
    {
      "cell_type": "code",
      "source": [
        "# 1.  Write a Python function that takes a list of numbers as input and returns the sum of all even numbers in the list\n",
        "\n",
        "def sum_even_numbers(nums):\n",
        "    total = 0\n",
        "    for num in nums:\n",
        "        if num % 2 == 0:\n",
        "            total += num\n",
        "    return total\n",
        "\n",
        "sum_even_numbers([1, 2, 3, 4, 5, 6, 7, 8, 9, 10])"
      ],
      "metadata": {
        "colab": {
          "base_uri": "https://localhost:8080/"
        },
        "id": "2KONT_sb3toW",
        "outputId": "a3c20fe6-86ae-4639-ad63-635373e7142e"
      },
      "execution_count": 23,
      "outputs": [
        {
          "output_type": "execute_result",
          "data": {
            "text/plain": [
              "30"
            ]
          },
          "metadata": {},
          "execution_count": 23
        }
      ]
    },
    {
      "cell_type": "code",
      "source": [
        "# 2. Create a Python function that accepts a string and returns the reverse of that string.\n",
        "\n",
        "def reverse_string(s):\n",
        "    return s[::-1]  # Easy way to reverse a string\n",
        "reverse_string(\"Hello World\")"
      ],
      "metadata": {
        "colab": {
          "base_uri": "https://localhost:8080/",
          "height": 36
        },
        "id": "0F-_aAN94Pgg",
        "outputId": "0f45a4da-3aaa-4324-f124-5cef2dd56e19"
      },
      "execution_count": 25,
      "outputs": [
        {
          "output_type": "execute_result",
          "data": {
            "text/plain": [
              "'dlroW olleH'"
            ],
            "application/vnd.google.colaboratory.intrinsic+json": {
              "type": "string"
            }
          },
          "metadata": {},
          "execution_count": 25
        }
      ]
    },
    {
      "cell_type": "code",
      "source": [
        "# 3.  Implement a Python function that takes a list of integers and returns a new list containing the squares of each number.\n",
        "\n",
        "def square_numbers(nums):\n",
        "    squares = []\n",
        "    for num in nums:\n",
        "        squares.append(num ** 2)\n",
        "    return squares\n",
        "\n",
        "nums = [1, 2, 3, 4, 5]\n",
        "result = square_numbers(nums)\n",
        "\n",
        "print(result)\n"
      ],
      "metadata": {
        "colab": {
          "base_uri": "https://localhost:8080/"
        },
        "id": "0Ri5xGez4m9p",
        "outputId": "04b327fa-33d8-4ac8-c6aa-8340eda145f0"
      },
      "execution_count": 22,
      "outputs": [
        {
          "output_type": "stream",
          "name": "stdout",
          "text": [
            "[1, 4, 9, 16, 25]\n"
          ]
        }
      ]
    },
    {
      "cell_type": "code",
      "source": [
        "# 4.  Write a Python function that checks if a given number is prime or not from 1 to 200.\n",
        "def is_prime(num):\n",
        "    if num < 2:\n",
        "        return False\n",
        "    for i in range(2, num):\n",
        "        if num % i == 0:\n",
        "            return False\n",
        "    return True\n",
        "is_prime(23)"
      ],
      "metadata": {
        "colab": {
          "base_uri": "https://localhost:8080/"
        },
        "id": "8QvWMtsP5p5H",
        "outputId": "4e79658d-85d3-4425-ecfe-cbe4daf63b7e"
      },
      "execution_count": 26,
      "outputs": [
        {
          "output_type": "execute_result",
          "data": {
            "text/plain": [
              "True"
            ]
          },
          "metadata": {},
          "execution_count": 26
        }
      ]
    },
    {
      "cell_type": "code",
      "source": [
        "# 5. Create an iterator class in Python that generates the Fibonacci sequence up to a specified number of terms.\n",
        "class Fibonacci:\n",
        "    def __init__(self, n):  # Fixed the method name\n",
        "        self.n = n\n",
        "        self.a, self.b = 0, 1\n",
        "        self.count = 0\n",
        "\n",
        "    def __iter__(self):  # Fixed the method name\n",
        "        return self\n",
        "\n",
        "    def __next__(self):  # Fixed the method name\n",
        "        if self.count >= self.n:\n",
        "            raise StopIteration\n",
        "        fib = self.a\n",
        "        self.a, self.b = self.b, self.a + self.b\n",
        "        self.count += 1\n",
        "        return fib\n",
        "\n",
        "# Using the Fibonacci iterator\n",
        "fib_sequence = Fibonacci(10)  # Generate first 10 Fibonacci numbers\n",
        "for num in fib_sequence:\n",
        "    print(num)\n"
      ],
      "metadata": {
        "colab": {
          "base_uri": "https://localhost:8080/"
        },
        "id": "o7-RKfVI55nY",
        "outputId": "d2a0ab78-df2a-4ea0-a7a6-0e5b93d9de96"
      },
      "execution_count": 31,
      "outputs": [
        {
          "output_type": "stream",
          "name": "stdout",
          "text": [
            "0\n",
            "1\n",
            "1\n",
            "2\n",
            "3\n",
            "5\n",
            "8\n",
            "13\n",
            "21\n",
            "34\n"
          ]
        }
      ]
    },
    {
      "cell_type": "code",
      "source": [
        "# 6. Write a generator function in Python that yields the powers of 2 up to a given exponent.\n",
        "\n",
        "def powers_of_two(limit):\n",
        "    num = 1\n",
        "    for _ in range(limit):\n",
        "        yield num\n",
        "        num *= 2\n",
        "powers_of_two(5)"
      ],
      "metadata": {
        "colab": {
          "base_uri": "https://localhost:8080/"
        },
        "id": "bnFDwIWR7DT7",
        "outputId": "9d3e1838-5467-4347-8b89-e898fe57e65c"
      },
      "execution_count": 33,
      "outputs": [
        {
          "output_type": "execute_result",
          "data": {
            "text/plain": [
              "<generator object powers_of_two at 0x7bbb96227920>"
            ]
          },
          "metadata": {},
          "execution_count": 33
        }
      ]
    },
    {
      "cell_type": "code",
      "source": [
        "# 7. Implement a generator function that reads a file line by line and yields each line as a string.\n",
        "\n",
        "def read_file(filepath):\n",
        "    with open(filepath, 'r') as file:\n",
        "        for line in file:\n",
        "            yield line.strip()\n",
        "read_file(\"example.txt\")\n"
      ],
      "metadata": {
        "colab": {
          "base_uri": "https://localhost:8080/"
        },
        "id": "iTpkkFSH7SgV",
        "outputId": "ef3dd452-7dda-4bea-92cf-f97a39f861c9"
      },
      "execution_count": 34,
      "outputs": [
        {
          "output_type": "execute_result",
          "data": {
            "text/plain": [
              "<generator object read_file at 0x7bbb9617f010>"
            ]
          },
          "metadata": {},
          "execution_count": 34
        }
      ]
    },
    {
      "cell_type": "code",
      "source": [
        "# 8. Use a lambda function in Python to sort a list of tuples based on the second element of each tuple.\n",
        "\n",
        "data = [(1, 'b'), (2, 'a'), (3, 'c')]\n",
        "sorted_data = sorted(data, key=lambda x: x[1])\n",
        "\n",
        "print(sorted_data)"
      ],
      "metadata": {
        "colab": {
          "base_uri": "https://localhost:8080/"
        },
        "id": "YlepFvnN7pT-",
        "outputId": "732d3fb7-438a-40da-9593-491eb7ce6cb7"
      },
      "execution_count": 36,
      "outputs": [
        {
          "output_type": "stream",
          "name": "stdout",
          "text": [
            "[(2, 'a'), (1, 'b'), (3, 'c')]\n"
          ]
        }
      ]
    },
    {
      "cell_type": "code",
      "source": [
        "# 9. Write a Python program that uses `map()` to convert a list of temperatures from Celsius to Fahrenheit.\n",
        "\n",
        "def convert_to_fahrenheit(celsius_list):\n",
        "    return list(map(lambda c: (c * 9/5) + 32, celsius_list))\n",
        "\n",
        "celsius_values = [0, 20, 37, 100]\n",
        "fahrenheit_values = convert_to_fahrenheit(celsius_values)\n",
        "\n",
        "print(fahrenheit_values)"
      ],
      "metadata": {
        "colab": {
          "base_uri": "https://localhost:8080/"
        },
        "id": "n5RhnqOC70hP",
        "outputId": "1070e58c-4cb8-4e72-e42a-eba3c673f5b0"
      },
      "execution_count": 41,
      "outputs": [
        {
          "output_type": "stream",
          "name": "stdout",
          "text": [
            "[32.0, 68.0, 98.6, 212.0]\n"
          ]
        }
      ]
    },
    {
      "cell_type": "code",
      "source": [
        "# 10. Create a Python program that uses `filter()` to remove all the vowels from a given string.\n",
        "def remove_vowels(string):\n",
        "    return ''.join(filter(lambda char: char.lower() not in 'aeiou', string))\n",
        "remove_vowels(\"Hello World\")"
      ],
      "metadata": {
        "colab": {
          "base_uri": "https://localhost:8080/",
          "height": 36
        },
        "id": "P08527748sBM",
        "outputId": "ad1e94ab-3628-4ae8-eef6-0e8429eecb4c"
      },
      "execution_count": 42,
      "outputs": [
        {
          "output_type": "execute_result",
          "data": {
            "text/plain": [
              "'Hll Wrld'"
            ],
            "application/vnd.google.colaboratory.intrinsic+json": {
              "type": "string"
            }
          },
          "metadata": {},
          "execution_count": 42
        }
      ]
    },
    {
      "cell_type": "code",
      "source": [
        "#"
      ],
      "metadata": {
        "id": "vNzWQXES85bq"
      },
      "execution_count": null,
      "outputs": []
    }
  ]
}